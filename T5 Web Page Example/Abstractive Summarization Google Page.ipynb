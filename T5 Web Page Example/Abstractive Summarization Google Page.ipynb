{
 "cells": [
  {
   "cell_type": "code",
   "execution_count": 2,
   "metadata": {},
   "outputs": [],
   "source": [
    "from bs4 import BeautifulSoup\n",
    "import urllib.request as urllib2\n",
    "import requests\n",
    "import regex as re"
   ]
  },
  {
   "cell_type": "code",
   "execution_count": 3,
   "metadata": {},
   "outputs": [],
   "source": [
    "def clean_text(topic, num_p):\n",
    "    \n",
    "    s = \"+\".join(topic.split(\" \"))\n",
    "    url = f\"https://google.com/search?q={s}\"\n",
    "    \n",
    "    page = requests.get(url)\n",
    "    soup = BeautifulSoup(page.text, \"html.parser\")\n",
    "    \n",
    "    for div in soup.find_all(\"div\", class_ = \"g\"):\n",
    "        print(div)\n",
    "\n",
    "    \n",
    "    return text"
   ]
  },
  {
   "cell_type": "code",
   "execution_count": 5,
   "metadata": {},
   "outputs": [],
   "source": [
    "def load_data():\n",
    "    return None"
   ]
  },
  {
   "cell_type": "code",
   "execution_count": 6,
   "metadata": {},
   "outputs": [],
   "source": [
    "import torch\n",
    "import json \n",
    "from transformers import T5Tokenizer, T5ForConditionalGeneration, T5Config"
   ]
  },
  {
   "cell_type": "code",
   "execution_count": 7,
   "metadata": {},
   "outputs": [],
   "source": [
    "tokenizer = T5Tokenizer.from_pretrained(\"t5-small\")\n",
    "model = T5ForConditionalGeneration.from_pretrained('t5-small')\n",
    "device = torch.device('cpu')"
   ]
  },
  {
   "cell_type": "code",
   "execution_count": 8,
   "metadata": {},
   "outputs": [],
   "source": [
    "def summarize(topic, num_p):\n",
    "    cleaned_text = load_data()\n",
    "    \n",
    "    print(cleaned_text)\n",
    "    return\n",
    "    \n",
    "    tokenized_text = tokenizer.encode(cleaned_text, return_tensors=\"pt\").to(device)\n",
    "\n",
    "    summary_ids = model.generate(tokenized_text,\n",
    "                                        num_beams=4,\n",
    "                                        no_repeat_ngram_size=2,\n",
    "                                        min_length=30,\n",
    "                                        max_length=100,\n",
    "                                        early_stopping=True)\n",
    "\n",
    "    output = tokenizer.decode(summary_ids[0], skip_special_tokens=True)\n",
    "    return output"
   ]
  },
  {
   "cell_type": "code",
   "execution_count": 9,
   "metadata": {},
   "outputs": [
    {
     "name": "stdout",
     "output_type": "stream",
     "text": [
      "None\n"
     ]
    }
   ],
   "source": [
    "summarize(\"Machine Learning Examples\", 15)"
   ]
  },
  {
   "cell_type": "code",
   "execution_count": 21,
   "metadata": {},
   "outputs": [
    {
     "name": "stdout",
     "output_type": "stream",
     "text": [
      "Full Article\n",
      "------\n",
      "Machine learning is one modern innovation that has helped man enhance not only many industrial and professional processes but also advances everyday living. But what is machine learning? It is a subset of artificial intelligence, which focuses on using statistical techniques to build intelligent computer systems in order to learn from databases available to it. Currently, machine learning has been used in multiple fields and industries. For example, medical diagnosis, image processing, prediction, classification, learning association, regression etc. Today, machine learning is used in a wide range of applications. Perhaps one of the most well-known examples of machine learning in action is the recommendation engine that powers Facebook's news feed. Machine learning algorithms are used in a wide variety of applications, such as in medicine, email filtering, speech recognition, and computer vision, where it is difficult or unfeasible to develop conventional algorithms to perform the needed tasks. Although this technology is not new, it is now gaining fresh momentum as there are numerous things to know about ML. The factors responsible for resurging interest in ML are powerful and affordable computational processing, continuously growing volumes of huge data sets, and affordable data storage options. Today, companies can make informed decisions by using ML algorithms to develop analytical models, which uncover connections, trends and patterns with minimal or no human intervention.  \n",
      "\n",
      "\n",
      "\n",
      "Summary\n",
      "------\n",
      ". Machine learning is a subset of artificial intelligence, which focuses on using statistical techniques to build intelligent computer systems in order to learn from databases available to it. Currently, machine learning has been used in multiple fields and industries. For example, medical diagnosis, image processing, prediction, classification, learning association, regression etc.\n"
     ]
    }
   ],
   "source": [
    "text = \". \".join(open(\"data.txt\", \"r\").read().split(\"\\n\"))\n",
    "cleaned_text = text.replace(\"..\", \". \").replace(\" . \", \"\")\n",
    "\n",
    "print(f\"Full Article\\n------\")\n",
    "print(cleaned_text)\n",
    "\n",
    "tokenized_text = tokenizer.encode(cleaned_text, return_tensors=\"pt\").to(device)\n",
    "\n",
    "summary_ids = model.generate(tokenized_text,\n",
    "                                    num_beams=4,\n",
    "                                    no_repeat_ngram_size=2,\n",
    "                                    min_length=30,\n",
    "                                    max_length=200,\n",
    "                                    early_stopping=True)\n",
    "\n",
    "output = tokenizer.decode(summary_ids[0], skip_special_tokens=True)\n",
    "print(f\"\\n\\n\\nSummary\\n------\\n{output}\")"
   ]
  }
 ],
 "metadata": {
  "kernelspec": {
   "display_name": "Python [conda env:pytorch]",
   "language": "python",
   "name": "conda-env-pytorch-py"
  },
  "language_info": {
   "codemirror_mode": {
    "name": "ipython",
    "version": 3
   },
   "file_extension": ".py",
   "mimetype": "text/x-python",
   "name": "python",
   "nbconvert_exporter": "python",
   "pygments_lexer": "ipython3",
   "version": "3.9.1"
  }
 },
 "nbformat": 4,
 "nbformat_minor": 2
}
