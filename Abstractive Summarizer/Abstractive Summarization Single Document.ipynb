{
 "cells": [
  {
   "cell_type": "markdown",
   "metadata": {},
   "source": [
    "reference: https://towardsdatascience.com/simple-abstractive-text-summarization-with-pretrained-t5-text-to-text-transfer-transformer-10f6d602c426\n",
    "\n",
    "Tokenizer Info: https://huggingface.co/transformers/tokenizer_summary.html"
   ]
  },
  {
   "cell_type": "code",
   "execution_count": 1,
   "metadata": {},
   "outputs": [],
   "source": [
    "from bs4 import BeautifulSoup\n",
    "import urllib.request as urllib2"
   ]
  },
  {
   "cell_type": "code",
   "execution_count": 26,
   "metadata": {},
   "outputs": [],
   "source": [
    "def clean_text(url, num_p):\n",
    "    page = urllib2.urlopen(url)\n",
    "    soup = BeautifulSoup(page, \"html.parser\")\n",
    "    \n",
    "    ps = []\n",
    "    for i, paragraph in enumerate(soup.findAll(\"p\")):\n",
    "        p = paragraph.text.split()\n",
    "        if len(p) == 0 or p[-1][-1] not in \".!,:;\":\n",
    "            continue\n",
    "        ps.append(\" \".join(p))\n",
    "        \n",
    "        if i >= num_p:\n",
    "            break\n",
    "   \n",
    "    text = \" \".join(ps)\n",
    "    \n",
    "    return text"
   ]
  },
  {
   "cell_type": "code",
   "execution_count": 3,
   "metadata": {},
   "outputs": [],
   "source": [
    "url1 = \"https://www.salesforce.com/eu/blog/2020/06/real-world-examples-of-machine-learning.html\"\n",
    "url2 = \"https://bigdata-madesimple.com/top-10-real-life-examples-of-machine-learning/\"\n",
    "url3 = \"https://www.forbes.com/sites/bernardmarr/2018/04/30/27-incredible-examples-of-ai-and-machine-learning-in-practice/?sh=30e992bf7502\""
   ]
  },
  {
   "cell_type": "code",
   "execution_count": 4,
   "metadata": {},
   "outputs": [],
   "source": [
    "import torch\n",
    "import json \n",
    "from transformers import T5Tokenizer, T5ForConditionalGeneration, T5Config"
   ]
  },
  {
   "cell_type": "code",
   "execution_count": 5,
   "metadata": {},
   "outputs": [],
   "source": [
    "tokenizer = T5Tokenizer.from_pretrained(\"t5-small\")\n",
    "model = T5ForConditionalGeneration.from_pretrained('t5-small')\n",
    "device = torch.device('cpu')"
   ]
  },
  {
   "cell_type": "code",
   "execution_count": 27,
   "metadata": {},
   "outputs": [],
   "source": [
    "def summarize(url, num_p):\n",
    "    cleaned_text = clean_text(url, num_p)\n",
    "    \n",
    "    tokenized_text = tokenizer.encode(cleaned_text, return_tensors=\"pt\").to(device)\n",
    "\n",
    "    summary_ids = model.generate(tokenized_text,\n",
    "                                        num_beams=4,\n",
    "                                        no_repeat_ngram_size=2,\n",
    "                                        min_length=30,\n",
    "                                        max_length=100,\n",
    "                                        early_stopping=True)\n",
    "\n",
    "    output = tokenizer.decode(summary_ids[0], skip_special_tokens=True)\n",
    "    return output"
   ]
  },
  {
   "cell_type": "code",
   "execution_count": 28,
   "metadata": {},
   "outputs": [
    {
     "data": {
      "text/plain": [
       "'. Machine learning is a modern innovation that has enhanced many industrial and professional processes. Image recognition is an example of machine learning in the real world. It can identify commonalities and match them to faces. Some software applications can convert live voice and recorded speech into text. The speech can be segmented by intensities on time-frequency bands as well.'"
      ]
     },
     "execution_count": 28,
     "metadata": {},
     "output_type": "execute_result"
    }
   ],
   "source": [
    "summarize(url1, 15)"
   ]
  },
  {
   "cell_type": "code",
   "execution_count": 29,
   "metadata": {},
   "outputs": [
    {
     "data": {
      "text/plain": [
       "'. Machine learning is a subset of artificial intelligence, which focuses on using statistical techniques to build intelligent computer systems in order to learn from databases available to it. Currently, machine learning has been used in multiple fields and industries – for example, medical diagnosis, image processing, prediction, classification, learning association, regression etc.'"
      ]
     },
     "execution_count": 29,
     "metadata": {},
     "output_type": "execute_result"
    }
   ],
   "source": [
    "summarize(url2, 15)"
   ]
  },
  {
   "cell_type": "code",
   "execution_count": 30,
   "metadata": {},
   "outputs": [
    {
     "data": {
      "text/plain": [
       "', AI and machine learning can help drive high performance. BP is at the forefront of realizing the opportunities big data and artificial intelligence has for the energy industry. they use natural language processing and advanced analytics to help musicians understand what audiences want and what songs might ultimately be hits.'"
      ]
     },
     "execution_count": 30,
     "metadata": {},
     "output_type": "execute_result"
    }
   ],
   "source": [
    "summarize(url3, 30)"
   ]
  }
 ],
 "metadata": {
  "kernelspec": {
   "display_name": "Python 3 (ipykernel)",
   "language": "python",
   "name": "python3"
  },
  "language_info": {
   "codemirror_mode": {
    "name": "ipython",
    "version": 3
   },
   "file_extension": ".py",
   "mimetype": "text/x-python",
   "name": "python",
   "nbconvert_exporter": "python",
   "pygments_lexer": "ipython3",
   "version": "3.9.7"
  }
 },
 "nbformat": 4,
 "nbformat_minor": 2
}
