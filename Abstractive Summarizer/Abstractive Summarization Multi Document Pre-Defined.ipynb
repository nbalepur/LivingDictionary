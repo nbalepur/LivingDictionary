{
 "cells": [
  {
   "cell_type": "code",
   "execution_count": 1,
   "metadata": {},
   "outputs": [],
   "source": [
    "from bs4 import BeautifulSoup\n",
    "import urllib.request as urllib2"
   ]
  },
  {
   "cell_type": "code",
   "execution_count": 2,
   "metadata": {},
   "outputs": [],
   "source": [
    "def clean_text(url, num_p):\n",
    "    page = urllib2.urlopen(url)\n",
    "    soup = BeautifulSoup(page, \"html.parser\")\n",
    "    \n",
    "    ps = []\n",
    "    for i, paragraph in enumerate(soup.findAll(\"p\")):\n",
    "        p = paragraph.text.split()\n",
    "        if len(p) == 0 or p[-1][-1] not in \".!,:;\":\n",
    "            continue\n",
    "        ps.append(\" \".join(p))\n",
    "        \n",
    "        if i >= num_p:\n",
    "            break\n",
    "        \n",
    "    text = \" \".join(ps)\n",
    "    \n",
    "    return text"
   ]
  },
  {
   "cell_type": "code",
   "execution_count": 3,
   "metadata": {},
   "outputs": [],
   "source": [
    "def get_urls(topic):\n",
    "    url1 = \"https://www.salesforce.com/eu/blog/2020/06/real-world-examples-of-machine-learning.html\"\n",
    "    url2 = \"https://bigdata-madesimple.com/top-10-real-life-examples-of-machine-learning/\"\n",
    "    url3 = \"https://www.forbes.com/sites/bernardmarr/2018/04/30/27-incredible-examples-of-ai-and-machine-learning-in-practice/?sh=30e992bf7502\"\n",
    "    \n",
    "    urls = [url1, url2, url3]\n",
    "    \n",
    "    return urls"
   ]
  },
  {
   "cell_type": "code",
   "execution_count": 4,
   "metadata": {},
   "outputs": [],
   "source": [
    "def get_text(topic, num_p):\n",
    "    urls = get_urls(topic)\n",
    "    text = \"\"\n",
    "    \n",
    "    for url in urls:\n",
    "        text += clean_text(url, num_p) + \" \"\n",
    "        \n",
    "    return text"
   ]
  },
  {
   "cell_type": "code",
   "execution_count": 5,
   "metadata": {},
   "outputs": [],
   "source": [
    "import torch\n",
    "import json \n",
    "from transformers import T5Tokenizer, T5ForConditionalGeneration, T5Config"
   ]
  },
  {
   "cell_type": "code",
   "execution_count": 6,
   "metadata": {},
   "outputs": [],
   "source": [
    "tokenizer = T5Tokenizer.from_pretrained(\"t5-small\")\n",
    "model = T5ForConditionalGeneration.from_pretrained('t5-small')\n",
    "device = torch.device('cpu')"
   ]
  },
  {
   "cell_type": "code",
   "execution_count": 7,
   "metadata": {},
   "outputs": [],
   "source": [
    "def summarize(topic, num_p):\n",
    "    cleaned_text = get_text(topic, num_p)\n",
    "    \n",
    "    tokenized_text = tokenizer.encode(cleaned_text, return_tensors=\"pt\").to(device)\n",
    "\n",
    "    summary_ids = model.generate(tokenized_text,\n",
    "                                        num_beams = 3,\n",
    "                                        no_repeat_ngram_size = 2,\n",
    "                                        min_length = 30,\n",
    "                                        max_length = 1000,\n",
    "                                        early_stopping = False)\n",
    "\n",
    "    output = tokenizer.decode(summary_ids[0], skip_special_tokens=True)\n",
    "    return output"
   ]
  },
  {
   "cell_type": "code",
   "execution_count": 9,
   "metadata": {},
   "outputs": [
    {
     "data": {
      "text/plain": [
       "', algorithms, and algorithms. Machine learning is a subset of artificial intelligence (AI), which focuses on using statistical techniques to build intelligent computer systems to learn from available databases. BP is at the forefront of realizing the opportunities big data has for the energy industry. it is used to drive new levels of performance, improve the use of resources and safety and reliability of oil and gas production and refining.'"
      ]
     },
     "execution_count": 9,
     "metadata": {},
     "output_type": "execute_result"
    }
   ],
   "source": [
    "summarize(\"machine learning\", 10)"
   ]
  }
 ],
 "metadata": {
  "kernelspec": {
   "display_name": "Python [conda env:pytorch]",
   "language": "python",
   "name": "conda-env-pytorch-py"
  },
  "language_info": {
   "codemirror_mode": {
    "name": "ipython",
    "version": 3
   },
   "file_extension": ".py",
   "mimetype": "text/x-python",
   "name": "python",
   "nbconvert_exporter": "python",
   "pygments_lexer": "ipython3",
   "version": "3.9.1"
  }
 },
 "nbformat": 4,
 "nbformat_minor": 2
}
