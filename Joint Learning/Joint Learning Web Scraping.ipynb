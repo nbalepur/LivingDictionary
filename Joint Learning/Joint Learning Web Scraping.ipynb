{
 "cells": [
  {
   "cell_type": "code",
   "execution_count": 1,
   "metadata": {},
   "outputs": [],
   "source": [
    "from urllib.request import urlopen\n",
    "from bs4 import BeautifulSoup\n",
    "import re\n",
    "import pandas as pd"
   ]
  },
  {
   "cell_type": "code",
   "execution_count": 2,
   "metadata": {},
   "outputs": [],
   "source": [
    "topic = \"Data Structures\"\n",
    "url_link = \"https://en.wikipedia.org/wiki/Data_structure\"\n",
    "html_doc = urlopen(url_link).read()"
   ]
  },
  {
   "cell_type": "code",
   "execution_count": 3,
   "metadata": {},
   "outputs": [],
   "source": [
    "soup = BeautifulSoup(html_doc, 'html.parser')"
   ]
  },
  {
   "cell_type": "code",
   "execution_count": 4,
   "metadata": {},
   "outputs": [],
   "source": [
    "headers = []\n",
    "for header in soup.find_all(\"span\", {\"class\" : \"mw-headline\"}):\n",
    "    if header.text[:len(\"See also\")] == \"See also\":\n",
    "        break\n",
    "    headers.append(header.text.replace(\"[edit]\", \"\"))"
   ]
  },
  {
   "cell_type": "code",
   "execution_count": 5,
   "metadata": {},
   "outputs": [],
   "source": [
    "def clean_sentences(t):\n",
    "    sentences = t.split(\".\")\n",
    "    #print(sentences)\n",
    "    return [\" \".join(s.split()) for s in sentences if len(s) > 10]"
   ]
  },
  {
   "cell_type": "code",
   "execution_count": 6,
   "metadata": {},
   "outputs": [],
   "source": [
    "texts = []\n",
    "\n",
    "for header in soup.find_all(\"h2\"):\n",
    "\n",
    "    if header.text.replace(\"[edit]\", \"\") not in headers:\n",
    "        continue\n",
    "\n",
    "    paragraphs = []\n",
    "    nextNode = header\n",
    "    while True:\n",
    "        nextNode = nextNode.nextSibling\n",
    "        if nextNode.name == \"h2\":\n",
    "            break\n",
    "        if nextNode.name == \"p\":\n",
    "            paragraphs.extend(clean_sentences(nextNode.text))\n",
    "    texts.append(paragraphs)"
   ]
  },
  {
   "cell_type": "code",
   "execution_count": 7,
   "metadata": {},
   "outputs": [],
   "source": [
    "questions = [f\"What are {header} of {topic}\" for header in headers]"
   ]
  },
  {
   "cell_type": "code",
   "execution_count": 8,
   "metadata": {},
   "outputs": [
    {
     "data": {
      "text/html": [
       "<div>\n",
       "<style scoped>\n",
       "    .dataframe tbody tr th:only-of-type {\n",
       "        vertical-align: middle;\n",
       "    }\n",
       "\n",
       "    .dataframe tbody tr th {\n",
       "        vertical-align: top;\n",
       "    }\n",
       "\n",
       "    .dataframe thead th {\n",
       "        text-align: right;\n",
       "    }\n",
       "</style>\n",
       "<table border=\"1\" class=\"dataframe\">\n",
       "  <thead>\n",
       "    <tr style=\"text-align: right;\">\n",
       "      <th></th>\n",
       "      <th>questions</th>\n",
       "      <th>answers</th>\n",
       "    </tr>\n",
       "  </thead>\n",
       "  <tbody>\n",
       "    <tr>\n",
       "      <th>0</th>\n",
       "      <td>What are Usage of Data Structures</td>\n",
       "      <td>[Data structures serve as the basis for abstra...</td>\n",
       "    </tr>\n",
       "    <tr>\n",
       "      <th>1</th>\n",
       "      <td>What are Implementation of Data Structures</td>\n",
       "      <td>[Data structures are generally based on the ab...</td>\n",
       "    </tr>\n",
       "    <tr>\n",
       "      <th>2</th>\n",
       "      <td>What are Examples of Data Structures</td>\n",
       "      <td>[There are numerous types of data structures, ...</td>\n",
       "    </tr>\n",
       "    <tr>\n",
       "      <th>3</th>\n",
       "      <td>What are Language support of Data Structures</td>\n",
       "      <td>[Most assembly languages and some low-level la...</td>\n",
       "    </tr>\n",
       "  </tbody>\n",
       "</table>\n",
       "</div>"
      ],
      "text/plain": [
       "                                      questions  \\\n",
       "0             What are Usage of Data Structures   \n",
       "1    What are Implementation of Data Structures   \n",
       "2          What are Examples of Data Structures   \n",
       "3  What are Language support of Data Structures   \n",
       "\n",
       "                                             answers  \n",
       "0  [Data structures serve as the basis for abstra...  \n",
       "1  [Data structures are generally based on the ab...  \n",
       "2  [There are numerous types of data structures, ...  \n",
       "3  [Most assembly languages and some low-level la...  "
      ]
     },
     "execution_count": 8,
     "metadata": {},
     "output_type": "execute_result"
    }
   ],
   "source": [
    "data = pd.DataFrame({'questions': questions, 'answers': texts})\n",
    "data"
   ]
  },
  {
   "cell_type": "code",
   "execution_count": 9,
   "metadata": {},
   "outputs": [
    {
     "data": {
      "text/plain": [
       "['What are Usage of Data Structures',\n",
       " 'What are Implementation of Data Structures',\n",
       " 'What are Examples of Data Structures',\n",
       " 'What are Language support of Data Structures']"
      ]
     },
     "execution_count": 9,
     "metadata": {},
     "output_type": "execute_result"
    }
   ],
   "source": [
    "questions"
   ]
  },
  {
   "cell_type": "code",
   "execution_count": 10,
   "metadata": {},
   "outputs": [
    {
     "data": {
      "text/plain": [
       "['Data structures serve as the basis for abstract data types (ADT)',\n",
       " 'The ADT defines the logical form of the data type',\n",
       " 'The data structure implements the physical form of the data type',\n",
       " 'Different types of data structures are suited to different kinds of applications, and some are highly specialized to specific tasks',\n",
       " 'For example, relational databases commonly use B-tree indexes for data retrieval,[6] while compiler implementations usually use hash tables to look up identifiers',\n",
       " 'Data structures provide a means to manage large amounts of data efficiently for uses such as large databases and internet indexing services',\n",
       " 'Usually, efficient data structures are key to designing efficient algorithms',\n",
       " 'Some formal design methods and programming languages emphasize data structures, rather than algorithms, as the key organizing factor in software design',\n",
       " 'Data structures can be used to organize the storage and retrieval of information stored in both main memory and secondary memory']"
      ]
     },
     "execution_count": 10,
     "metadata": {},
     "output_type": "execute_result"
    }
   ],
   "source": [
    "texts[0]"
   ]
  }
 ],
 "metadata": {
  "kernelspec": {
   "display_name": "Python 3",
   "language": "python",
   "name": "python3"
  },
  "language_info": {
   "codemirror_mode": {
    "name": "ipython",
    "version": 3
   },
   "file_extension": ".py",
   "mimetype": "text/x-python",
   "name": "python",
   "nbconvert_exporter": "python",
   "pygments_lexer": "ipython3",
   "version": "3.7.3"
  }
 },
 "nbformat": 4,
 "nbformat_minor": 2
}
