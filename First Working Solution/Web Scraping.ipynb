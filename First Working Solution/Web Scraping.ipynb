{
 "cells": [
  {
   "cell_type": "code",
   "execution_count": 37,
   "id": "614a04fe",
   "metadata": {},
   "outputs": [],
   "source": [
    "from bs4 import BeautifulSoup\n",
    "import urllib.request as urllib2\n",
    "from googlesearch import search"
   ]
  },
  {
   "cell_type": "code",
   "execution_count": 41,
   "id": "b4dab901",
   "metadata": {},
   "outputs": [],
   "source": [
    "query = \"What are examples of machine learning?\"\n",
    "urls = [url for url in search(query, tld=\"co.in\", num = 5, stop = 5, pause=2)]"
   ]
  },
  {
   "cell_type": "code",
   "execution_count": 42,
   "id": "2426648b",
   "metadata": {},
   "outputs": [
    {
     "data": {
      "text/plain": [
       "['https://www.salesforce.com/eu/blog/2020/06/real-world-examples-of-machine-learning.html',\n",
       " 'https://builtin.com/artificial-intelligence/machine-learning-examples-applications',\n",
       " 'https://bigdata-madesimple.com/top-10-real-life-examples-of-machine-learning/',\n",
       " 'https://insights.daffodilsw.com/blog/9-machine-learning-examples-from-day-to-day-life',\n",
       " 'https://www.toptal.com/machine-learning/machine-learning-theory-an-introductory-primer']"
      ]
     },
     "execution_count": 42,
     "metadata": {},
     "output_type": "execute_result"
    }
   ],
   "source": [
    "urls"
   ]
  },
  {
   "cell_type": "code",
   "execution_count": 49,
   "id": "659f0914",
   "metadata": {},
   "outputs": [],
   "source": [
    "documents = []\n",
    "\n",
    "for url in urls:\n",
    "    \n",
    "    hdr = {'User-Agent': 'Mozilla/5.0'}\n",
    "    req = urllib2.Request(url, headers = hdr)\n",
    "    page = urllib2.urlopen(req)\n",
    "    soup = BeautifulSoup(page, \"html.parser\")\n",
    "\n",
    "    ps = []\n",
    "\n",
    "    for i, paragraph in enumerate(soup.findAll(\"p\")):\n",
    "        p = paragraph.text.split()\n",
    "        if len(p) == 0 or p[-1][-1] not in \".!,:;\":\n",
    "            continue\n",
    "        ps.append(\" \".join(p))\n",
    "\n",
    "    documents.append(\"\\n\".join(ps))"
   ]
  }
 ],
 "metadata": {
  "kernelspec": {
   "display_name": "Python 3 (ipykernel)",
   "language": "python",
   "name": "python3"
  },
  "language_info": {
   "codemirror_mode": {
    "name": "ipython",
    "version": 3
   },
   "file_extension": ".py",
   "mimetype": "text/x-python",
   "name": "python",
   "nbconvert_exporter": "python",
   "pygments_lexer": "ipython3",
   "version": "3.9.7"
  }
 },
 "nbformat": 4,
 "nbformat_minor": 5
}
