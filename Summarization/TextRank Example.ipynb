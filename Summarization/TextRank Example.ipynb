{
 "cells": [
  {
   "cell_type": "code",
   "execution_count": 1,
   "metadata": {},
   "outputs": [],
   "source": [
    "from gensim.summarization.summarizer import summarize\n",
    "from bs4 import BeautifulSoup\n",
    "import urllib.request as urllib2"
   ]
  },
  {
   "cell_type": "code",
   "execution_count": 2,
   "metadata": {},
   "outputs": [],
   "source": [
    "url = \"https://www.salesforce.com/eu/blog/2020/06/real-world-examples-of-machine-learning.html\"\n",
    "page = urllib2.urlopen(url)\n",
    "soup = BeautifulSoup(page, \"html.parser\")"
   ]
  },
  {
   "cell_type": "code",
   "execution_count": 3,
   "metadata": {},
   "outputs": [],
   "source": [
    "ps = []\n",
    "for i, paragraph in enumerate(soup.findAll(\"p\")):\n",
    "    p = paragraph.text.split()\n",
    "    if p[-1][-1] not in \".!,:;\":\n",
    "        continue\n",
    "    ps.append(\" \".join(p))\n",
    "text = \" \".join(ps)"
   ]
  },
  {
   "cell_type": "code",
   "execution_count": 4,
   "metadata": {},
   "outputs": [
    {
     "name": "stdout",
     "output_type": "stream",
     "text": [
      "With machine learning, computer systems can take all the customer data and utilise it. Image recognition is a well-known and widespread example of machine learning in the real world. Real-world examples of image recognition: Machine learning is also frequently used for facial recognition within an image. Real-world examples for medical diagnosis: In the case of rare diseases, the joint use of facial recognition software and machine learning helps scan patient photos and identify phenotypes that correlate with rare genetic diseases. Real-world examples of statistical arbitrage: Machine learning optimises the arbitrage strategy to enhance results. Machine learning can classify available data into groups, which are then defined by rules set by analysts. Machine learning can extract structured information from unstructured data. Real-world examples of extraction: Typically, these processes are tedious.\n"
     ]
    }
   ],
   "source": [
    "print(\" \".join(summarize(text, split = True)))"
   ]
  },
  {
   "cell_type": "code",
   "execution_count": 5,
   "metadata": {},
   "outputs": [],
   "source": [
    "def summarize_url(url, ratio):\n",
    "    page = urllib2.urlopen(url)\n",
    "    soup = BeautifulSoup(page, \"html.parser\")\n",
    "    \n",
    "    ps = []\n",
    "    for i, paragraph in enumerate(soup.findAll(\"p\")):\n",
    "        p = paragraph.text.split()\n",
    "        if len(p) == 0 or p[-1][-1] not in \".!,:;\":\n",
    "            continue\n",
    "        ps.append(\" \".join(p))\n",
    "    text = \" \".join(ps)\n",
    "    \n",
    "    return \" \".join(summarize(text, split = True, ratio = ratio))"
   ]
  },
  {
   "cell_type": "code",
   "execution_count": 6,
   "metadata": {},
   "outputs": [],
   "source": [
    "url1 = \"https://www.salesforce.com/eu/blog/2020/06/real-world-examples-of-machine-learning.html\"\n",
    "url2 = \"https://bigdata-madesimple.com/top-10-real-life-examples-of-machine-learning/\"\n",
    "url3 = \"https://www.forbes.com/sites/bernardmarr/2018/04/30/27-incredible-examples-of-ai-and-machine-learning-in-practice/?sh=30e992bf7502\""
   ]
  },
  {
   "cell_type": "code",
   "execution_count": 7,
   "metadata": {},
   "outputs": [
    {
     "data": {
      "text/plain": [
       "'Real-world examples for medical diagnosis: In the case of rare diseases, the joint use of facial recognition software and machine learning helps scan patient photos and identify phenotypes that correlate with rare genetic diseases. Real-world examples of statistical arbitrage: Machine learning optimises the arbitrage strategy to enhance results.'"
      ]
     },
     "execution_count": 7,
     "metadata": {},
     "output_type": "execute_result"
    }
   ],
   "source": [
    "summarize_url(url1, 0.05)"
   ]
  },
  {
   "cell_type": "code",
   "execution_count": 8,
   "metadata": {},
   "outputs": [
    {
     "data": {
      "text/plain": [
       "'For example, medical diagnosis, image processing, prediction, classification, learning association, regression etc. In this article, we will discuss 10 real-life examples of how machine learning is helping in creating better technology to power today’s ideas. One of the applications of machine learning is studying the associations between the products that people buy. Extraction of information is one of the best applications of machine learning.'"
      ]
     },
     "execution_count": 8,
     "metadata": {},
     "output_type": "execute_result"
    }
   ],
   "source": [
    "summarize_url(url2, 0.05)"
   ]
  },
  {
   "cell_type": "code",
   "execution_count": 9,
   "metadata": {},
   "outputs": [
    {
     "data": {
      "text/plain": [
       "'There are so many amazing ways artificial intelligence and machine learning are used behind the scenes to impact our everyday lives and inform business decisions and optimize operations for some of the world’s leading companies. Not only does the company create a lot of data, it has embraced new technology and puts that data into practice to support new product development, capitalize on artificial intelligence bots and even trialing augmented reality in bottling plants. They acquired Blue River Technology for its solution to use advanced machine learning algorithms to allow robots to make decisions based on visual data about whether or not a plan is a pest to treat it with a pesticide. They use big data, machine learning, AI and the IoT to ensure a seamless experience between the online customer experience and the in-store experience (with 11,000 brick-and-mortar stores, something rival Amazon isn’t able to do.'"
      ]
     },
     "execution_count": 9,
     "metadata": {},
     "output_type": "execute_result"
    }
   ],
   "source": [
    "summarize_url(url3, 0.05)"
   ]
  }
 ],
 "metadata": {
  "kernelspec": {
   "display_name": "Python 3",
   "language": "python",
   "name": "python3"
  },
  "language_info": {
   "codemirror_mode": {
    "name": "ipython",
    "version": 3
   },
   "file_extension": ".py",
   "mimetype": "text/x-python",
   "name": "python",
   "nbconvert_exporter": "python",
   "pygments_lexer": "ipython3",
   "version": "3.7.3"
  }
 },
 "nbformat": 4,
 "nbformat_minor": 2
}
